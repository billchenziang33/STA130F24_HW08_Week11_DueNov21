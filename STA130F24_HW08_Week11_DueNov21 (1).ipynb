{
 "cells": [
  {
   "cell_type": "markdown",
   "id": "8a29dab0",
   "metadata": {},
   "source": [
    "# STA130 Homework 08\n",
    "\n",
    "Please see the course [wiki-textbook](https://github.com/pointOfive/stat130chat130/wiki) for the list of topics covered in this homework assignment, and a list of topics that might appear during ChatBot conversations which are \"out of scope\" for the purposes of this homework assignment (and hence can be safely ignored if encountered)"
   ]
  },
  {
   "cell_type": "markdown",
   "id": "94eee301",
   "metadata": {},
   "source": [
    "<details class=\"details-example\"><summary style=\"color:blue\"><u>Introduction</u></summary>\n",
    "\n",
    "### Introduction\n",
    "    \n",
    "A reasonable characterization of STA130 Homework is that it simply defines a weekly reading comprehension assignment. \n",
    "Indeed, STA130 Homework essentially boils down to completing various understanding confirmation exercises oriented around coding and writing tasks.\n",
    "However, rather than reading a textbook, STA130 Homework is based on ChatBots so students can interactively follow up to clarify questions or confusion that they may still have regarding learning objective assignments.\n",
    "\n",
    "> Communication is a fundamental skill underlying statistics and data science, so STA130 Homework based on ChatBots helps practice effective two-way communication as part of a \"realistic\" dialogue activity supporting underlying conceptual understanding building. \n",
    "\n",
    "It will likely become increasingly tempting to rely on ChatBots to \"do the work for you\". But when you find yourself frustrated with a ChatBots inability to give you the results you're looking for, this is a \"hint\" that you've become overreliant on the ChatBots. Your objective should not be to have ChatBots \"do the work for you\", but to use ChatBots to help you build your understanding so you can efficiently leverage ChatBots (and other resources) to help you work more efficiently.<br><br>\n",
    "\n",
    "</details>\n",
    "\n",
    "<details class=\"details-example\"><summary style=\"color:blue\"><u>Instructions</u></summary>\n",
    "\n",
    "### Instructions\n",
    "    \n",
    "1. Code and write all your answers (for both the \"Pre-lecture\" and \"Post-lecture\" HW) in a python notebook (in code and markdown cells) \n",
    "    \n",
    "> It is *suggested but not mandatory* that you complete the \"Pre-lecture\" HW prior to the Monday LEC since (a) all HW is due at the same time; but, (b) completing some of the HW early will mean better readiness for LEC and less of a \"procrastentation cruch\" towards the end of the week...\n",
    "    \n",
    "2. Paste summaries of your ChatBot sessions (including link(s) to chat log histories if you're using ChatGPT) within your notebook\n",
    "    \n",
    "> Create summaries of your ChatBot sessions by using concluding prompts such as \"Please provide a summary of our exchanges here so I can submit them as a record of our interactions as part of a homework assignment\" or, \"Please provide me with the final working verson of the code that we created together\"\n",
    "    \n",
    "3. Save your python jupyter notebook in your own account and \"repo\" on [github.com](github.com) and submit a link to that notebook though Quercus for assignment marking<br><br>\n",
    "\n",
    "</details>\n",
    "\n",
    "<details class=\"details-example\"><summary style=\"color:blue\"><u>Prompt Engineering?</u></summary>\n",
    "    \n",
    "### Prompt Engineering? \n",
    "    \n",
    "The questions (as copy-pasted prompts) are designed to initialize appropriate ChatBot conversations which can be explored in the manner of an interactive and dynamic textbook; but, it is nonetheless **strongly recommendated** that your rephrase the questions in a way that you find natural to ensure a clear understanding of the question. Given sensible prompts the represent a question well, the two primary challenges observed to arise from ChatBots are \n",
    "\n",
    "1. conversations going beyond the intended scope of the material addressed by the question; and, \n",
    "2. unrecoverable confusion as a result of sequential layers logial inquiry that cannot be resolved. \n",
    "\n",
    "In the case of the former (1), adding constraints specifying the limits of considerations of interest tends to be helpful; whereas, the latter (2) is often the result of initial prompting that leads to poor developments in navigating the material, which are likely just best resolve by a \"hard reset\" with a new initial approach to prompting.  Indeed, this is exactly the behavior [hardcoded into copilot](https://answers.microsoft.com/en-us/bing/forum/all/is-this-even-normal/0b6dcab3-7d6c-4373-8efe-d74158af3c00)...\n",
    "\n",
    "</details>"
   ]
  },
  {
   "cell_type": "markdown",
   "id": "ffbc1200",
   "metadata": {},
   "source": [
    "### Marking Rubric (which may award partial credit)\n",
    "- [0.1 points]: All relevant ChatBot summaries [including link(s) to chat log histories if you're using ChatGPT] are reported within the notebook\n",
    "- [0.2 points]: Well-communicated and sensible answers for Question \"2\"\n",
    "- [0.2 points]: Correct code and well-communicated correct answer for Question \"4\" \n",
    "- [0.2 points]: Correct calculations for requested metrics in Question \"6\" \n",
    "- [0.3 points]: Correct and well-communicated explanation of differences for Question \"7\" \n",
    "<!-- - [0.1 points]: Written submission evaluation and enagement confirmation with ChatBot summaries for \"8\", \"10\"-->\n",
    "\n"
   ]
  },
  {
   "cell_type": "markdown",
   "id": "67686639",
   "metadata": {},
   "source": [
    "## \"Pre-lecture\" HW [*completion prior to next LEC is suggested but not mandatory*]"
   ]
  },
  {
   "cell_type": "markdown",
   "id": "54a53734",
   "metadata": {},
   "source": [
    "\n",
    "### 1. Start a ChatBot session to understand what a *Classification Decision Tree* is: (a) ask the ChatBot to describe the type of problem a *Classification Decision Tree* addresses and provide some examples of real-world applications where this might be particularly useful, and then (b) make sure you understand the difference between how a *Classification Decision Tree* makes *(classification) predictions* versus how *Multiple Linear Regression* makes *(regression) predictions*<br>\n",
    "\n",
    "<details class=\"details-example\"><summary style=\"color:blue\"><u>Further Guidance</u></summary>\n",
    "\n",
    "> _The first part (a) of this question is looking for you to understand the difference between **classification** and **regression**. The second part (b) of the questions is looking for a fairly high level understanding of the general nature of a decision tree and how it is based on making sequential decisions down the *nodes* of *tree* in order to eventually make a final prediction. This part (b) is essentially the **Classification Decision Tree** analog of \"explain how the **linear form** makes a prediciton in **Multiple Linear Regression** generally speaking\"; namely,\"explain how the **tree** makes a prediciton in a **Classification Decision Tree** generally speaking\"._\n",
    "> \n",
    "> _**If you're struggling with this, it would probably be most helpful to go search for and some images of example decision trees to look at!**_\n",
    "> \n",
    "> - _You may be beginning to realize or will nonetheless eventually come to understand that the sequential decisions at each stage of the **Decision Tree** are **interactions** (in the same manner as **interactions** in **Multiple Linear Regression**.  Once you start to see that and it's making sense to you then you'll increasingly appreciate how **complex** **Decision Tree** models can be, even though they're pretty simple to understand if you just look at one._\n",
    ">\n",
    "> ---\n",
    ">    \n",
    "> _When using chatbots, it's often more effective (and enjoyable) to ask concise, single questions rather than presenting complex, multi-part queries. This approach can help in obtaining clearer and more specific responses (that might be more enjoyable to interact with). You can always ask multi-part questions as a series of additional sequential questions. With this approach, chatbots may not automatically reiterate previously explained concepts. So if you need a refresher or further explanation on a topic discussed earlier, just explicitly request during follow-up interactions._\n",
    "> \n",
    "> ---\n",
    "> \n",
    "> _Don't forget to ask for summaries of all your different ChatBot sessions and organize and paste these into your homework notebook (including link(s) to chat log histories if you're using ChatBot); but, if you're using the STA130 custom NBLM ChatBot, you'll only be able to ask for summaries, of course!_ \n",
    "    \n",
    "</details>"
   ]
  },
  {
   "cell_type": "markdown",
   "id": "89d0001e",
   "metadata": {},
   "source": [
    "# question 1\n",
    "\n",
    "Part (a): \n",
    "\n",
    "Understanding the Problems a Classification Decision Tree Addresses\n",
    "\n",
    "What problems do Classification Decision Trees address?\n",
    "\n",
    "Classification problems: These involve predicting categorical outcomes based on input features. The goal is to assign inputs to predefined classes.\n",
    "\n",
    "Examples of problems addressed:\n",
    "Spam email detection (Spam vs. Not Spam).\n",
    "Diagnosing diseases (e.g., Flu vs. Cold).\n",
    "Credit risk assessment (High Risk vs. Low Risk).\n",
    "Customer segmentation (e.g., Frequent Buyer vs. Occasional Buyer).\n",
    "\n",
    "Real-world applications:\n",
    "\n",
    "Healthcare: Diagnosing diseases based on symptoms and medical tests.\n",
    "Marketing: Predicting customer churn or segmentation.\n",
    "Finance: Fraud detection in transactions.\n",
    "Technology: Classifying images or speech in AI systems.\n",
    "\n",
    "\n",
    "Part (b): \n",
    "\n",
    "Comparing Classification Decision Trees and Multiple Linear Regression\n",
    "How a Classification Decision Tree Makes Predictions:\n",
    "\n",
    "Structure: A Classification Decision Tree is a flowchart-like structure where each internal node represents a decision based on a feature, each branch corresponds to an outcome of that decision, and each leaf node represents a final class prediction.\n",
    "\n",
    "Process:\n",
    "Start at the root node and evaluate a feature-based condition (e.g., Is Age > 30?).\n",
    "Follow the branch corresponding to the outcome of that condition.\n",
    "Repeat this process at each node until reaching a leaf node.\n",
    "Assign the class label of the leaf node as the prediction.\n",
    "\n",
    "Sequential Decisions: The tree makes a series of conditional decisions, which can be thought of as \"interactions\" between features. For example, decisions might combine Age and Income thresholds to predict loan approval status.\n",
    "\n",
    "How Multiple Linear Regression Makes Predictions:\n",
    "\n",
    "Structure: Multiple Linear Regression uses a single mathematical equation in the form \n",
    "𝑦=𝛽0+𝛽1𝑥1+𝛽2𝑥2+…+𝛽𝑛𝑥𝑛\n",
    "\n",
    "Process:\n",
    "Input the features (𝑥1,𝑥2,…,𝑥𝑛) into the equation.Compute a numerical output 𝑦, which represents the predicted value of the target variable.\n",
    "\n",
    "Nature of Predictions: Predictions are continuous (e.g., predicting house prices or test scores)."
   ]
  },
  {
   "cell_type": "markdown",
   "id": "aa378cc2",
   "metadata": {},
   "source": [
    "# Brief Summary\n",
    "\n",
    "A Classification Decision Tree solves classification problems by predicting categorical outcomes (e.g., Spam vs. Not Spam) using a tree-like structure. It sequentially evaluates feature-based conditions at each node, following branches until it reaches a leaf node, which gives the final class prediction. Real-world applications include spam detection, medical diagnosis, and fraud detection.\n",
    "\n",
    "In contrast, Multiple Linear Regression predicts continuous outcomes (e.g., house prices) using a single linear equation that combines features with coefficients. While Decision Trees make predictions via sequential feature interactions, regression computes predictions directly through a linear formula.\n",
    "\n",
    "Decision Trees handle complex, non-linear relationships naturally, while regression requires explicit modeling of interactions."
   ]
  },
  {
   "cell_type": "markdown",
   "id": "0bb20c57",
   "metadata": {},
   "source": [
    "The link of the chatBot:https://chatgpt.com/share/673a74c4-83e8-8003-88df-5c9350794fd7"
   ]
  },
  {
   "cell_type": "markdown",
   "id": "6bbf97d1",
   "metadata": {},
   "source": [
    "### 2. Continue your ChatBot session and explore with your ChatBot what real-world application scenario(s) might be most appropriately addressed by each of the following *metrics* below: provide your answers and, in your own words, *concisely explain your rationale for your answers.*<br>\n",
    "\n",
    "\n",
    "1. **Accuracy** measures the proportion of true results (both true positives and true negatives) in the population.\n",
    "\n",
    "$$\\text{Accuracy} = \\frac{TP + TN}{TP + TN + FP + FN}$$\n",
    "    \n",
    "2. **Sensitivity** measures the proportion of actual positives that are correctly identified.\n",
    "\n",
    "$$\\text{Sensitivity} = \\frac{TP}{TP + FN}$$\n",
    "\n",
    "3. **Specificity** measures the proportion of actual negatives that are correctly identified.\n",
    "\n",
    "$$\\text{Specificity} = \\frac{TN}{TN + FP}$$\n",
    "\n",
    "4. **Precision** measures the proportion of positive identifications that were actually correct.\n",
    "\n",
    "$$\\text{Precision} = \\frac{TP}{TP + FP}$$\n",
    "\n",
    "<details class=\"details-example\"><summary style=\"color:blue\"><u>Further Guidance</u></summary>\n",
    "\n",
    "> _This question could be restated as, \"Give examples of real-world examples where each of these **metrics** would be particularly useful.\"_\n",
    ">\n",
    "> _The primary objective here is to understand the distinction between each of these **metrics**. The secondary objective is to notice how the nature of the decision-making that each of these **metrics** most naturally supports is very distinct, ideally based on identifying memorable examples that really distinguish between the **metrics**._\n",
    ">\n",
    "> - _Have a look at this (greatly expanded) handy list of additional metrics, formulas, and synonyms at the following [wikipedia page](https://en.wikipedia.org/wiki/Sensitivity_and_specificity) if you want this to get real crazy real fast._\n",
    ">    \n",
    "> ---\n",
    "> \n",
    "> _Don't forget to ask for summaries of all your different ChatBot sessions and organize and paste these into your homework notebook (including link(s) to chat log histories if you're using ChatBot); but, if you're using the STA130 custom NBLM ChatBot, you'll only be able to ask for summaries, of course!_ \n",
    "    \n",
    "</details>"
   ]
  },
  {
   "cell_type": "markdown",
   "id": "8043a17d",
   "metadata": {},
   "source": [
    "# question 2\n",
    "\n",
    "1. Accuracy\n",
    "\n",
    "Scenario: Predicting weather (e.g., sunny vs. rainy) for general-purpose forecasting.\n",
    "\n",
    "Rationale: When false positives (predicting rain when it's sunny) and false negatives (predicting sun when it rains) carry relatively equal consequences, accuracy provides a balanced view of the model's performance. High accuracy ensures a reliable forecast for most days.\n",
    "\n",
    "\n",
    "2. Sensitivity (True Positive Rate)\n",
    "\n",
    "Scenario: Medical diagnosis for critical conditions (e.g., cancer screening).\n",
    "\n",
    "Rationale: Sensitivity is crucial when failing to identify true positives (e.g., cancer cases) has severe consequences. Ensuring that most positive cases are detected minimizes the risk of undiagnosed patients, even if some false positives occur.\n",
    "\n",
    "\n",
    "3. Specificity (True Negative Rate)\n",
    "\n",
    "Scenario: Screening for rare diseases (e.g., eliminating healthy individuals in a blood donor pool).\n",
    "\n",
    "Rationale: Specificity is essential when it is important to correctly identify negatives (e.g., healthy individuals), avoiding unnecessary follow-ups or treatments for false positives. High specificity ensures minimal false alarms.\n",
    "\n",
    "\n",
    "4. Precision (Positive Predictive Value)\n",
    "\n",
    "Scenario: Spam email detection.\n",
    "\n",
    "Rationale: Precision is critical when false positives (legitimate emails marked as spam) are more problematic than false negatives. High precision ensures that flagged emails are very likely to be actual spam, avoiding important emails being mistakenly filtered."
   ]
  },
  {
   "cell_type": "markdown",
   "id": "f579d2ff",
   "metadata": {},
   "source": [
    "# summary （in my own words)\n",
    "\n",
    "Metrics help measure model performance. \n",
    "\n",
    "1.Accuracy works when all errors matter equally, like weather predictions.\n",
    "\n",
    "2.Sensitivity is key for finding positives, like cancer detection. \n",
    "\n",
    "3.Specificity avoids false alarms, like in donor screening. \n",
    "\n",
    "4.Precision prevents costly errors, like spam detection. Different metrics suit different tasks.\n",
    "\n"
   ]
  },
  {
   "cell_type": "markdown",
   "id": "55748b62",
   "metadata": {},
   "source": [
    "The link of the chatBot:https://chatgpt.com/share/673a74c4-83e8-8003-88df-5c9350794fd7"
   ]
  },
  {
   "cell_type": "markdown",
   "id": "f58bd64b",
   "metadata": {},
   "source": [
    "### 3. Explore the amazon books dataset, seen previously at the start of the semester, providing some initital standard *exploratory data analysis (EDA)* and data summarization after pre-processing the dataset to meet the requirements below<br>\n",
    "\n",
    " 1. remove `Weight_oz`, `Width`, and `Height` \n",
    " 2. drop all remaining rows with `NaN` entries \n",
    " 3. set `Pub year` and `NumPages` to have the type `int`, and `Hard_or_Paper` to have the type `category`\n",
    "\n",
    "<details class=\"details-example\"><summary style=\"color:blue\"><u>Further Guidance</u></summary>\n",
    "\n",
    "> _`NaN` entries can't be used in their raw form with the `scikit-learn` methodologies, so we do need to remove them to proceed with our analyses._\n",
    ">     \n",
    "> _Only remove rows with `NaN` entries once you've subset to the columns you're interested in. This will minimize potentially unnecessary data loss..._\n",
    ">\n",
    "> _It would be possible to consider imputing missing data to further mitigate data loss, but the considerations for doing so are more advanced than the level of our course, so we'll not consider that for now._ \n",
    "\n",
    "</details>"
   ]
  },
  {
   "cell_type": "code",
   "execution_count": 3,
   "id": "e4b50624",
   "metadata": {},
   "outputs": [],
   "source": [
    "import pandas as pd\n",
    "import numpy as np\n",
    "from sklearn import tree\n",
    "from sklearn.model_selection import train_test_split\n",
    "from sklearn.metrics import confusion_matrix, ConfusionMatrixDisplay\n",
    "from sklearn.metrics import accuracy_score, recall_score, make_scorer\n",
    "import graphviz as gv\n",
    "\n",
    "url = \"https://raw.githubusercontent.com/pointOfive/STA130_F23/main/Data/amazonbooks.csv\"\n",
    "ab = pd.read_csv(url, encoding=\"ISO-8859-1\")\n",
    "# create `ab_reduced_noNaN` based on the specs above"
   ]
  },
  {
   "cell_type": "markdown",
   "id": "036698f7",
   "metadata": {},
   "source": [
    "# question 3\n",
    "\n",
    "The dataset has been successfully processed based on the specified requirements. Here is an overview of the preprocessing and exploratory data analysis (EDA):\n",
    "\n",
    "Preprocessing Steps:\n",
    "Removed Columns: Weight_oz, Width, Height.\n",
    "Dropped Rows with NaN Values: Ensured no missing data remains.\n",
    "\n",
    "Converted Data Types:\n",
    "Pub year and NumPages set to integers.\n",
    "Hard_or_Paper set to a categorical type.\n",
    "\n",
    "Dataset Summary:\n",
    "Number of Rows: 319 after cleaning.\n",
    "\n",
    "Key Statistics:\n",
    "List Price: Ranges from $1.50 to $139.95 with an average of $18.36.\n",
    "\n",
    "Amazon Price: Ranges from $0.77 to $139.95 with an average of $12.94.\n",
    "\n",
    "NumPages: Ranges from 24 to 896 pages, with a median of 320.\n",
    "\n",
    "Pub year: Spans from 1936 to 2011.\n",
    "\n",
    "Categorical Features:\n",
    "Hard_or_Paper: 233 entries are \"P\" (Paperback), the rest are \"H\" (Hardcover)."
   ]
  },
  {
   "cell_type": "markdown",
   "id": "819b2ea2",
   "metadata": {},
   "source": [
    "# summary\n",
    "\n",
    "The Amazon Books dataset was cleaned by removing unnecessary columns, dropping rows with missing values, and adjusting data types for consistency. The cleaned dataset contains 319 rows, with an average list price of $18.36 and an Amazon price of $12.94. The number of pages ranges from 24 to 896, and publication years span from 1936 to 2011. Most books are paperback (233), and the dataset is now ready for further analysis. Let me know if you need help with the next steps!"
   ]
  },
  {
   "cell_type": "markdown",
   "id": "cad068c2",
   "metadata": {},
   "source": [
    "The link of the chatBot:https://chatgpt.com/share/673a74c4-83e8-8003-88df-5c9350794fd7"
   ]
  },
  {
   "cell_type": "markdown",
   "id": "c225c340",
   "metadata": {},
   "source": [
    "### 4. Create an 80/20 split with 80% of the data as a training set *ab_reduced_noNaN_train* and 20% of the data testing set  *ab_reduced_noNaN_test* using either *df.sample(...)* as done in TUT or using *train_test_split(...)* as done in the previous HW, and report on how many observations there are in the training data set and the test data set.<br><br>Tell a ChatBot that you are about to fit a \"scikit-learn\" *DecisionTreeClassifier* model and ask what the two steps given below are doing; then use your ChatBots help to write code to \"train\" a classification tree *clf* using only the *List Price* variable to predict whether or not a book is a hard cover or paper back book using a *max_depth* of *2*; finally use *tree.plot_tree(clf)* to explain what *predictions* are made based on *List Price* for the fitted *clf* model\n",
    "\n",
    "```python\n",
    "y = pd.get_dummies(ab_reduced_noNaN[\"Hard_or_Paper\"])['H']\n",
    "X = ab_reduced_noNaN[['List Price']]\n",
    "```\n",
    "<details class=\"details-example\"><summary style=\"color:blue\"><u>Further Guidance</u></summary>\n",
    "\n",
    "> _To complete the final 80/20 split of the **observations** in a reproducible way, set a \"random seed\"._ \n",
    "> \n",
    "> - _A single **observation** consists of all the measurements made on a single entity, typically corresponding to a row of a data frame. In **Machine Learning**, a collection of values of interest measured for a single entity is called a \"vector\" and so the **observation** is referred to as a **vector**_.\n",
    ">    \n",
    "> _Asking the ChatBot about \"DecisionTreeClassifier .fit(...)\" can be helpful here..._\n",
    "> \n",
    "> _Should you use the \"ab_reduced_noNaN\" data, or the \"ab_reduced_noNaN_train\" data, or the \"ab_reduced_noNaN_test\" data to initially fit the classification tree? Why?_\n",
    ">    \n",
    "> _You can visualize your decision tree using the `tree.plot_tree(clf)` function shown in the `sklearn` documentation [here](\n",
    "https://scikit-learn.org/stable/auto_examples/tree/plot_unveil_tree_structure.html#what-is-the-values-array-used-here) and [here](https://scikit-learn.org/stable/modules/tree.html); but, to make it more immediately readible it might be better to use `graphviz`, which is demonstrated in the `sklearn` documentation [here](https://scikit-learn.org/stable/modules/tree.html#alternative-ways-to-export-trees)_ \n",
    ">    \n",
    "> ---\n",
    "> \n",
    "> _Don't forget to ask for summaries of all your different ChatBot sessions and organize and paste these into your homework notebook (including link(s) to chat log histories if you're using ChatBot); but, if you're using the STA130 custom NBLM ChatBot, you'll only be able to ask for summaries, of course!_ \n",
    "    \n",
    "</details>"
   ]
  },
  {
   "cell_type": "markdown",
   "id": "3eb7d8ef",
   "metadata": {},
   "source": [
    "# question 4\n",
    "\n",
    "Task: Perform Data Splitting, Train a Classification Model, and Visualize a Decision Tree on the Amazon Books Dataset\n",
    "\n",
    "Step 1: Load and Preprocess the Dataset\n",
    "\n",
    "1.Load the Dataset:\n",
    "Use Pandas to load the CSV file you uploaded.\n",
    "\n",
    "2.Preprocess the Data:\n",
    "Remove unnecessary columns: Weight_oz, Width, Height.\n",
    "Drop rows with missing values (NaN).\n",
    "Convert Pub year and NumPages to integer type, and Hard_or_Paper to categorical type."
   ]
  },
  {
   "cell_type": "code",
   "execution_count": 1,
   "id": "d22a9c9b",
   "metadata": {},
   "outputs": [
    {
     "name": "stdout",
     "output_type": "stream",
     "text": [
      "Accuracy: 0.90\n",
      "Recall: 0.89\n"
     ]
    },
    {
     "data": {
      "image/png": "[encoded data removed]",
      "text/plain": [
       "<Figure size 640x480 with 2 Axes>"
      ]
     },
     "metadata": {},
     "output_type": "display_data"
    },
    {
     "data": {
      "image/png": "[encoded data removed]",
      "text/plain": [
       "<Figure size 1200x800 with 1 Axes>"
      ]
     },
     "metadata": {},
     "output_type": "display_data"
    },
    {
     "data": {
      "text/plain": [
       "'decision_tree.pdf'"
      ]
     },
     "execution_count": 1,
     "metadata": {},
     "output_type": "execute_result"
    }
   ],
   "source": [
    "import pandas as pd\n",
    "import numpy as np\n",
    "from sklearn import tree\n",
    "from sklearn.model_selection import train_test_split\n",
    "from sklearn.metrics import confusion_matrix, ConfusionMatrixDisplay, accuracy_score, recall_score\n",
    "import graphviz as gv\n",
    "\n",
    "# Load the dataset\n",
    "url = \"https://raw.githubusercontent.com/pointOfive/STA130_F23/main/Data/amazonbooks.csv\"\n",
    "ab = pd.read_csv(url, encoding=\"ISO-8859-1\")\n",
    "\n",
    "# Drop rows with missing values\n",
    "ab_reduced_noNaN = ab.dropna()\n",
    "\n",
    "# Encode the target variable: 'H' for hardcover, 'P' for paperback\n",
    "y = pd.get_dummies(ab_reduced_noNaN[\"Hard_or_Paper\"])['H']\n",
    "\n",
    "# Use 'List Price' as the predictor variable\n",
    "X = ab_reduced_noNaN[['List Price']]\n",
    "\n",
    "# Split the data into training and testing sets (80/20 split)\n",
    "X_train, X_test, y_train, y_test = train_test_split(X, y, test_size=0.2, random_state=42)\n",
    "\n",
    "# Initialize the DecisionTreeClassifier with max_depth=2\n",
    "clf = tree.DecisionTreeClassifier(max_depth=2, random_state=42)\n",
    "\n",
    "# Train the classifier\n",
    "clf.fit(X_train, y_train)\n",
    "\n",
    "# Predict on the test set\n",
    "y_pred = clf.predict(X_test)\n",
    "\n",
    "# Evaluate the model\n",
    "accuracy = accuracy_score(y_test, y_pred)\n",
    "recall = recall_score(y_test, y_pred)\n",
    "\n",
    "print(f\"Accuracy: {accuracy:.2f}\")\n",
    "print(f\"Recall: {recall:.2f}\")\n",
    "\n",
    "# Display the confusion matrix\n",
    "cm = confusion_matrix(y_test, y_pred, labels=clf.classes_)\n",
    "disp = ConfusionMatrixDisplay(confusion_matrix=cm, display_labels=clf.classes_)\n",
    "disp.plot()\n",
    "\n",
    "# Visualize the decision tree using plot_tree\n",
    "import matplotlib.pyplot as plt\n",
    "plt.figure(figsize=(12,8))\n",
    "tree.plot_tree(clf, feature_names=['List Price'], class_names=['Paperback', 'Hardcover'], filled=True, rounded=True)\n",
    "plt.show()\n",
    "\n",
    "# Visualize the decision tree using Graphviz\n",
    "dot_data = tree.export_graphviz(clf, out_file=None, \n",
    "                                feature_names=['List Price'],  \n",
    "                                class_names=['Paperback', 'Hardcover'],  \n",
    "                                filled=True, rounded=True,  \n",
    "                                special_characters=True)  \n",
    "graph = gv.Source(dot_data)  \n",
    "graph.render(\"decision_tree\")\n"
   ]
  },
  {
   "cell_type": "code",
   "execution_count": null,
   "id": "8be258f1",
   "metadata": {},
   "outputs": [],
   "source": [
    "# Load the dataset from the uploaded file\n",
    "file_path = '/mnt/data/amazonbooks.csv'\n",
    "import pandas as pd\n",
    "from sklearn.model_selection import train_test_split\n",
    "from sklearn.tree import DecisionTreeClassifier, plot_tree\n",
    "import matplotlib.pyplot as plt\n",
    "\n",
    "# Read the CSV file\n",
    "ab = pd.read_csv(file_path, encoding=\"ISO-8859-1\")\n",
    "\n",
    "# Preprocessing: Remove unnecessary columns and handle missing data\n",
    "ab_reduced = ab.drop(columns=[\"Weight_oz\", \"Width\", \"Height\"])\n",
    "ab_reduced_noNaN = ab_reduced.dropna()\n",
    "\n",
    "# Convert data types as specified\n",
    "ab_reduced_noNaN[\"Pub year\"] = ab_reduced_noNaN[\"Pub year\"].astype(int)\n",
    "ab_reduced_noNaN[\"NumPages\"] = ab_reduced_noNaN[\"NumPages\"].astype(int)\n",
    "ab_reduced_noNaN[\"Hard_or_Paper\"] = ab_reduced_noNaN[\"Hard_or_Paper\"].astype(\"category\")\n"
   ]
  },
  {
   "cell_type": "markdown",
   "id": "7f61f907",
   "metadata": {},
   "source": [
    "Step 2: Split the Data into Training and Testing Sets\n",
    "\n",
    "Data Splitting:\n",
    "Use train_test_split() to split the data into 80% training set and 20% testing set.\n",
    "Set a random seed (random_state=42) to ensure reproducibility."
   ]
  },
  {
   "cell_type": "code",
   "execution_count": null,
   "id": "4951171f",
   "metadata": {},
   "outputs": [],
   "source": [
    "# Perform an 80/20 split with reproducibility\n",
    "ab_reduced_noNaN_train, ab_reduced_noNaN_test = train_test_split(\n",
    "    ab_reduced_noNaN, test_size=0.2, random_state=42\n",
    ")\n",
    "\n",
    "# Report the number of observations\n",
    "train_size = ab_reduced_noNaN_train.shape[0]\n",
    "test_size = ab_reduced_noNaN_test.shape[0]\n",
    "\n",
    "# Print the sizes of training and testing sets\n",
    "print(f\"Training set size: {train_size}\")\n",
    "print(f\"Test set size: {test_size}\")\n"
   ]
  },
  {
   "cell_type": "markdown",
   "id": "4f4c7842",
   "metadata": {},
   "source": [
    "Step 3: Train the Classification Decision Tree Model\n",
    "\n",
    "Prepare the Target and Feature Variables:\n",
    "\n",
    "Target Variable (y): Use Hard_or_Paper and convert it to a binary variable ('H' for \"Hard Cover\").\n",
    "\n",
    "Feature Variable (X): Select List Price as the predictor variable.\n",
    "\n",
    "Train the Model:\n",
    "\n",
    "Train a DecisionTreeClassifier() with max_depth=2."
   ]
  },
  {
   "cell_type": "code",
   "execution_count": null,
   "id": "b39017b6",
   "metadata": {},
   "outputs": [],
   "source": [
    "# Prepare the target and feature for the training set\n",
    "y = pd.get_dummies(ab_reduced_noNaN_train[\"Hard_or_Paper\"])['H']  # 'H' represents Hard Cover\n",
    "X = ab_reduced_noNaN_train[[\"List Price\"]]\n",
    "\n",
    "# Train a DecisionTreeClassifier with max_depth=2\n",
    "clf = DecisionTreeClassifier(max_depth=2, random_state=42)\n",
    "clf.fit(X, y)\n"
   ]
  },
  {
   "cell_type": "markdown",
   "id": "fc981449",
   "metadata": {},
   "source": [
    "Step 4: Visualize the Decision Tree\n",
    "\n",
    "Visualize the Trained Decision Tree:\n",
    "Use plot_tree() to visualize the decision tree model."
   ]
  },
  {
   "cell_type": "code",
   "execution_count": null,
   "id": "d851766f",
   "metadata": {},
   "outputs": [],
   "source": [
    "# Visualize the decision tree\n",
    "plt.figure(figsize=(10, 7))\n",
    "plot_tree(clf, feature_names=[\"List Price\"], class_names=[\"Paper Back\", \"Hard Cover\"], filled=True)\n",
    "plt.title(\"Decision Tree for List Price Predicting Hard Cover vs. Paper Back\")\n",
    "plt.show()\n"
   ]
  },
  {
   "cell_type": "markdown",
   "id": "c93cf04f",
   "metadata": {},
   "source": [
    "Model Explanation\n",
    "\n",
    "Nodes in the Tree: The decision tree splits the data at nodes based on conditions involving List Price.\n",
    "\n",
    "Prediction Process:\n",
    "Starting from the root node, the tree checks whether List Price exceeds a specific value.\n",
    "Depending on whether the condition is true or false, it follows a branch until reaching a leaf node that provides the prediction.\n",
    "By looking at the visualization, you can see how the price threshold influences the prediction of book type.\n",
    "\n",
    "Note:\n",
    "\n",
    "The model should always be trained on the training set, not the entire dataset or the testing set, as the testing set is reserved for evaluating model performance.\n",
    "Random Seed ensures that data splitting is reproducible, which is important for consistent results in analyses."
   ]
  },
  {
   "cell_type": "markdown",
   "id": "ed7e4cad",
   "metadata": {},
   "source": [
    "# summary\n",
    "\n",
    "The task involves preprocessing the Amazon books dataset, splitting it into training and testing sets, training a classification decision tree model, and visualizing it for better understanding. The model uses List Price to predict whether a book is a \"Hard Cover\" or \"Paper Back\" with a depth of 2 for simplicity. Visualizing the decision tree provides a clear understanding of how the model makes decisions based on the book price."
   ]
  },
  {
   "cell_type": "markdown",
   "id": "79ca44c6",
   "metadata": {},
   "source": [
    "The link of the chatBot:https://chatgpt.com/share/673a8c3b-9530-8003-b98b-43c611aa2c15"
   ]
  },
  {
   "cell_type": "markdown",
   "id": "f2ac0e5b",
   "metadata": {},
   "source": [
    "<details class=\"details-example\"><summary style=\"color:blue\"><u>Continue now...?</u></summary>\n",
    "\n",
    "### Pre-lecture VS Post-lecture HW\n",
    "\n",
    "Feel free to work on the \"Post-lecture\" HW below if you're making good progress and want to continue: for **HW 08** this could be reasonable because, as you'll see, the process of creating and using **classification decision trees** is quite similar to the process for creating and using **multiple linear regression** models. There are differences of course, such as how there is **coefficient hypothesis testing** in **multiple linear regression** and **confusion matrices** in **classification decision trees**, and so on. But you would very likely be able to leverage the silarities to make a lot of progress with **classification decision trees** based on your experience with **multiple linear regression**.\n",
    "    \n",
    "*The benefits of continue would are that (a) Consolidate the knowledge already learned and integrate it comprehensively. (b) Let you build experience interacting with ChatBots (and understand their strengths and limitations in this regard)... it's good to have sense of when using a ChatBot is the best way to figure something out, or if another approach (such as course provided resources or a plain old websearch for the right resourse) would be more effective*\n",
    "    \n",
    "</details>    "
   ]
  },
  {
   "cell_type": "markdown",
   "id": "d75e7d3e",
   "metadata": {},
   "source": [
    "## \"Post-lecture\" HW [*submission along with \"Pre-lecture\" HW is due prior to next TUT*]\n"
   ]
  },
  {
   "cell_type": "markdown",
   "id": "98b3ce1f",
   "metadata": {},
   "source": [
    "### 5. Repeat the previous problem but this time visualize the *classification decision tree* based on the following specifications below; then explain generally how predictions are made for the *clf2* model<br>\n",
    "\n",
    "1. `X = ab_reduced_noNaN[['NumPages', 'Thick', 'List Price']]`\n",
    "2. `max_depth` set to `4`\n",
    "\n",
    "<details class=\"details-example\"><summary style=\"color:blue\"><u>Further Guidance</u></summary>\n",
    "\n",
    "> - _Use the same **train/test split** dataset used so far_\n",
    "> - _Train the **classification decision tree** `clf2` using **predictor variables** `NumPages`, `Thick` and `List Price`_ \n",
    "> - _Again **predict** whether or not a book is hard cover book or a paper back book_\n",
    "> - _You can visualize your decision tree using the `tree.plot_tree(clf)` function shown in the `sklearn` documentation [here](\n",
    "https://scikit-learn.org/stable/auto_examples/tree/plot_unveil_tree_structure.html#what-is-the-values-array-used-here) and [here](https://scikit-learn.org/stable/modules/tree.html); but, to make it more immediately readible it might be better to use `graphviz`, which is demonstrated in the `sklearn` documentation [here](https://scikit-learn.org/stable/modules/tree.html#alternative-ways-to-export-trees)_\n",
    ">\n",
    "> _If you are interested in how to find the best `max_depth` for a tree, ask ChatBot about \"GridSearchCV\"_\n",
    ">    \n",
    "> ---\n",
    "> \n",
    "> _Don't forget to ask for summaries of all your different ChatBot sessions and organize and paste these into your homework notebook (including link(s) to chat log histories if you're using ChatBot); but, if you're using the STA130 custom NBLM ChatBot, you'll only be able to ask for summaries, of course!_ \n",
    "    \n",
    "</details>"
   ]
  },
  {
   "cell_type": "markdown",
   "id": "eb5894ab",
   "metadata": {},
   "source": [
    "# question 5\n",
    "\n",
    "Step 1: Prepare Data for clf2\n",
    "\n",
    "Use the same training and testing split created earlier (ab_reduced_noNaN_train, ab_reduced_noNaN_test).\n",
    "\n",
    "Use the predictor variables: NumPages, Thick, and List Price."
   ]
  },
  {
   "cell_type": "code",
   "execution_count": null,
   "id": "5ad02473",
   "metadata": {},
   "outputs": [],
   "source": [
    "# Prepare the target and features for the new model\n",
    "X2 = ab_reduced_noNaN_train[['NumPages', 'Thick', 'List Price']]\n",
    "y2 = pd.get_dummies(ab_reduced_noNaN_train[\"Hard_or_Paper\"])['H']  # Binary target: 'H' for Hard Cover\n"
   ]
  },
  {
   "cell_type": "markdown",
   "id": "f242b9c5",
   "metadata": {},
   "source": [
    "# Step 2: Train the clf2 Model\n",
    "\n",
    "Use DecisionTreeClassifier with max_depth=4 to allow for a more complex decision tree.\n",
    "\n",
    "Fit the model using the selected predictor variables."
   ]
  },
  {
   "cell_type": "code",
   "execution_count": null,
   "id": "250eacc2",
   "metadata": {},
   "outputs": [],
   "source": [
    "# Train a DecisionTreeClassifier with max_depth=4\n",
    "clf2 = DecisionTreeClassifier(max_depth=4, random_state=42)\n",
    "clf2.fit(X2, y2)\n"
   ]
  },
  {
   "cell_type": "markdown",
   "id": "d053ca46",
   "metadata": {},
   "source": [
    "# Step 3: Visualize the Decision Tree"
   ]
  },
  {
   "cell_type": "code",
   "execution_count": null,
   "id": "989cc5eb",
   "metadata": {},
   "outputs": [],
   "source": [
    "import matplotlib.pyplot as plt\n",
    "from sklearn.tree import plot_tree\n",
    "\n",
    "# Visualize the decision tree using Matplotlib\n",
    "plt.figure(figsize=(15, 10))\n",
    "plot_tree(clf2, \n",
    "          feature_names=['NumPages', 'Thick', 'List Price'], \n",
    "          class_names=['Paper Back', 'Hard Cover'], \n",
    "          filled=True)\n",
    "plt.title(\"Decision Tree for Predicting Hard Cover vs. Paper Back\")\n",
    "plt.show()\n"
   ]
  },
  {
   "cell_type": "markdown",
   "id": "1a3fed01",
   "metadata": {},
   "source": [
    "# Step 4: General Explanation of Predictions for clf2\n",
    "\n",
    "Decision Process:\n",
    "\n",
    "The decision tree divides the dataset into smaller groups based on conditions involving the predictor variables (NumPages, Thick, List Price).\n",
    "Each node in the tree represents a split based on a threshold value for one of the predictor variables.\n",
    "Prediction Path:\n",
    "\n",
    "Starting from the root node, the tree evaluates whether a condition (e.g., NumPages <= 300) is true or false.\n",
    "Based on the outcome, it follows a branch to the next node and repeats the process.\n",
    "This continues until it reaches a leaf node, which provides the final prediction (either \"Paper Back\" or \"Hard Cover\").\n",
    "Advantages of Using Multiple Features:\n",
    "\n",
    "Incorporating additional features like NumPages and Thick allows the model to capture more complex relationships between the predictors and the target variable.\n",
    "This often improves the accuracy of predictions compared to using a single feature."
   ]
  },
  {
   "cell_type": "markdown",
   "id": "8ac99143",
   "metadata": {},
   "source": [
    "# summary\n",
    "\n",
    "The clf2 model is a decision tree trained on three predictor variables (NumPages, Thick, List Price) to classify books as either \"Hard Cover\" or \"Paper Back.\" The visualization shows the conditions used at each node and how the tree branches into different outcomes. The depth of the tree (max_depth=4) provides a balance between complexity and interpretability."
   ]
  },
  {
   "cell_type": "markdown",
   "id": "0c9a5c50",
   "metadata": {},
   "source": [
    "The link of the chatBot:https://chatgpt.com/share/673a8c3b-9530-8003-b98b-43c611aa2c15"
   ]
  },
  {
   "cell_type": "markdown",
   "id": "d889386a",
   "metadata": {},
   "source": [
    "### 6. Use previously created *ab_reduced_noNaN_test* to create confusion matrices for *clf* and *clf2*. Report the sensitivity, specificity and accuracy for each of the models<br>\n",
    "\n",
    "<details class=\"details-example\"><summary style=\"color:blue\"><u>Further Guidance</u></summary>\n",
    "\n",
    "> _Hopefully you immediately thought to ask ChatBot to help you with this problem, but if you did you should take time to make sure you're clear about the key components of what the ChatBot is providing for you. You might want to know_\n",
    "> - _what is a \"positive\" and what is a \"negative\"_\n",
    "> - _how to read an `sklearn` confusion matrix_\n",
    "> - _what leads to TP, TN, FP, and FN_\n",
    "> - _whether `y_true` or `y_pred` go first in the `confusion_matrix` function_   \n",
    ">\n",
    "> _Have the visualizations you make use decimal numbers with three signifiant digits, such as `0.123` (and not as percentages like `12.3%`), probably based on `np.round()`_\n",
    ">    \n",
    "> ---\n",
    "> \n",
    "> _Don't forget to ask for summaries of all your different ChatBot sessions and organize and paste these into your homework notebook (including link(s) to chat log histories if you're using ChatBot); but, if you're using the STA130 custom NBLM ChatBot, you'll only be able to ask for summaries, of course!_ \n",
    "       \n",
    "</details>"
   ]
  },
  {
   "cell_type": "markdown",
   "id": "62a208ca",
   "metadata": {},
   "source": [
    "# question 6\n",
    "\n",
    "1. Understand Positive and Negative Classes\n",
    "\n",
    "Before we begin, it's important to define:\n",
    "\n",
    "Positive Class (1): The class representing the presence of a condition or event of interest.\n",
    "\n",
    "Negative Class (0): The class representing the absence of that condition or event.\n",
    "Make sure you know which class is positive in your dataset.\n",
    "\n",
    "2. Prepare the Test Data\n",
    "\n",
    "Separate the features and the target variable from your test dataset."
   ]
  },
  {
   "cell_type": "code",
   "execution_count": null,
   "id": "f3dd25c6",
   "metadata": {},
   "outputs": [],
   "source": [
    "# Replace 'target' with the name of your target variable column\n",
    "X_test = ab_reduced_noNaN_test.drop('target', axis=1)\n",
    "y_test = ab_reduced_noNaN_test['target']"
   ]
  },
  {
   "cell_type": "markdown",
   "id": "42c592d9",
   "metadata": {},
   "source": [
    "3. Make Predictions with Both Models\n",
    "\n",
    "Use your classifiers clf and clf2 to make predictions on the test data."
   ]
  },
  {
   "cell_type": "code",
   "execution_count": null,
   "id": "2e424162",
   "metadata": {},
   "outputs": [],
   "source": [
    "# Predictions from clf\n",
    "y_pred_clf = clf.predict(X_test)\n",
    "\n",
    "# Predictions from clf2\n",
    "y_pred_clf2 = clf2.predict(X_test)\n"
   ]
  },
  {
   "cell_type": "markdown",
   "id": "d8ddf905",
   "metadata": {},
   "source": [
    "4. Generate Confusion Matrices\n",
    "\n",
    "Import the confusion_matrix function and create confusion matrices for both models."
   ]
  },
  {
   "cell_type": "code",
   "execution_count": null,
   "id": "d244e590",
   "metadata": {},
   "outputs": [],
   "source": [
    "from sklearn.metrics import confusion_matrix\n",
    "\n",
    "# Confusion matrix for clf\n",
    "cm_clf = confusion_matrix(y_test, y_pred_clf)\n",
    "\n",
    "# Confusion matrix for clf2\n",
    "cm_clf2 = confusion_matrix(y_test, y_pred_clf2)\n"
   ]
  },
  {
   "cell_type": "markdown",
   "id": "8dab2f29",
   "metadata": {},
   "source": [
    "5. Extract TP, TN, FP, FN\n",
    "For binary classification, the confusion matrix layout is:"
   ]
  },
  {
   "cell_type": "code",
   "execution_count": null,
   "id": "3699ce9f",
   "metadata": {},
   "outputs": [],
   "source": [
    "             Predicted Negative    Predicted Positive\n",
    "Actual Negative      TN                   FP\n",
    "Actual Positive      FN                   TP"
   ]
  },
  {
   "cell_type": "markdown",
   "id": "7aef67ec",
   "metadata": {},
   "source": [
    "Visualize the Confusion Matrices (Optional)"
   ]
  },
  {
   "cell_type": "code",
   "execution_count": null,
   "id": "5eebe6d0",
   "metadata": {},
   "outputs": [],
   "source": [
    "import seaborn as sns\n",
    "import matplotlib.pyplot as plt\n",
    "\n",
    "# For clf\n",
    "plt.figure(figsize=(5,4))\n",
    "sns.heatmap(cm_clf, annot=True, fmt='d', cmap='Blues')\n",
    "plt.title('Confusion Matrix for clf')\n",
    "plt.xlabel('Predicted Label')\n",
    "plt.ylabel('True Label')\n",
    "plt.show()\n",
    "\n",
    "# For clf2\n",
    "plt.figure(figsize=(5,4))\n",
    "sns.heatmap(cm_clf2, annot=True, fmt='d', cmap='Greens')\n",
    "plt.title('Confusion Matrix for clf2')\n",
    "plt.xlabel('Predicted Label')\n",
    "plt.ylabel('True Label')\n",
    "plt.show()"
   ]
  },
  {
   "cell_type": "markdown",
   "id": "bfc0bf10",
   "metadata": {},
   "source": [
    "# summary\n",
    "\n",
    "Confusion matrices for clf and clf2 were created using sklearn, and sensitivity, specificity, and accuracy were calculated. Metrics were rounded to three significant digits, and optional heatmaps were provided for visual comparison.\n"
   ]
  },
  {
   "cell_type": "markdown",
   "id": "5249ac1a",
   "metadata": {},
   "source": [
    "The link of the chatBot:https://chatgpt.com/share/673e0ca1-164c-8003-be1d-bde25024778e"
   ]
  },
  {
   "cell_type": "markdown",
   "id": "72576c25",
   "metadata": {},
   "source": [
    "### 7. Explain in three to four sentences what is causing the differences between the following two confusion matrices below, and why the two confusion matrices above (for *clf* and *clf2*) are better<br>\n",
    "\n",
    "```python\n",
    "ConfusionMatrixDisplay(\n",
    "    confusion_matrix(ab_reduced_noNaN_train.life_exp_good, \n",
    "                     clf.predict(ab_reduced_noNaN_train[['List Price']]), \n",
    "                     labels=[0, 1]), display_labels=[\"Paper\",\"Hard\"]).plot()\n",
    "ConfusionMatrixDisplay(\n",
    "    confusion_matrix(ab_reduced_noNaN_train.life_exp_good, \n",
    "                     clf.predict(\n",
    "                         ab_reduced_noNaN_train[['NumPages','Thick','List Price']]), \n",
    "                     labels=[0, 1]), display_labels=[\"Paper\",\"Hard\"]).plot()\n",
    "```\n",
    "\n",
    "\n",
    "<details class=\"details-example\"><summary style=\"color:blue\"><u>Further Guidance</u></summary>\n",
    "    \n",
    "> _Don't forget to ask for summaries of all your different ChatBot sessions and organize and paste these into your homework notebook (including link(s) to chat log histories if you're using ChatBot); but, if you're using the STA130 custom NBLM ChatBot, you'll only be able to ask for summaries, of course!_ \n",
    "    \n",
    "</details>"
   ]
  },
  {
   "cell_type": "markdown",
   "id": "0a5ec83a",
   "metadata": {},
   "source": [
    "# question 7\n",
    "\n",
    "The differences between the two confusion matrices arise :\n",
    "\n",
    "The first classifier (clf) is using only the 'List Price' feature, while the second classifier (clf2) incorporates additional features: 'NumPages' and 'Thick'. \n",
    "\n",
    "Including more features can improve the model’s ability to capture the relationships between input variables and the target, resulting in better performance metrics like higher accuracy and fewer misclassifications.\n",
    "\n",
    "\n",
    "In contrast, the confusion matrices for clf and clf2 created earlier are better because they correctly align the predictors used for training and prediction.\n",
    "\n",
    "Each model is evaluated using the same features it was trained on, and the target variable matches appropriately. \n",
    "\n",
    "Additionally, these confusion matrices are generated using the test data (ab_reduced_noNaN_test), providing an unbiased assessment of model performance on unseen data, which is a standard practice for evaluating machine learning models."
   ]
  },
  {
   "cell_type": "markdown",
   "id": "8cc39c37",
   "metadata": {},
   "source": [
    "# Summary (in my own words)\n",
    "\n",
    "The diffenences between them because cls uses only 'List Price', while clf2 adds 'NumPages' and 'Thick'. More factors can improve clf2's accuracy and reduce misclassifications , making it better than clf."
   ]
  },
  {
   "cell_type": "markdown",
   "id": "3c46a13e",
   "metadata": {},
   "source": [
    "The link of the chatBot:https://chatgpt.com/share/673e1408-b404-8003-8d52-fada971a767d"
   ]
  },
  {
   "cell_type": "markdown",
   "id": "526939c2",
   "metadata": {},
   "source": [
    "\n",
    "### 8. Read the paragraphs in *Further Guidance* and ask a ChatBot how to visualize *feature Importances* available for *scikit-learn* *classification decision trees*; do so for *clf2*;  and use *.feature_names_in_* corresponding to *.feature_importances_* to report which *predictor variable* is most important for making predictions according to *clf2*<br>\n",
    "\n",
    "\n",
    "<details class=\"details-example\"><summary style=\"color:blue\"><u>Further Guidance</u></summary>\n",
    "  \n",
    "> The way a **classification decision tree** is fit is that at each step in the construction process of adding a new **decision node splitting rule** to the current **tree structure**, all possible **decision rules** for all possible **predictor variables** are considered, and the combination that improves the **prediction** the most (as measured by the criterion of either \"Gini impurity\" or \"Shannon entropy\") and in accordance with the rules of the decision tree (such as the `max_depth` argument) is added to the **classification decision tree**.  Thus overall \"criterion\" noted above improves with each new **decision node splitting rule**, so the improvement can thus be tracked and the improvement contributions attributed to the **feature** upon which the **decision node splitting rule** is based.  This means the relative contribution of each **predictor variable** to the overall explanatory power of the model can be calculated, and this is what the `.feature_importances_` attribute does. \n",
    ">\n",
    "> Compared to the simplicity of understanding how different **covariates** contribute towards the final **predicted values** of **multiple linear regression models** (by just reading off the equation to see how predictions work), the the complexity of how all the different **features** interact and combine to together to create the final **predictions** from **classification decision trees** can be staggering. But the so-called **feature importance** heuristics allows us to judge how relatively important the overall contributions from different features are in the final decision tree predictions. Now we just need to be sure we're not **overfitting** our **classification decision trees** since they can be so **complex**. Fortunately, the \"GridSearchCV\" methodology mentioned in regards to finding the best `max_depth` setting for a tree is going to provide a general answer to the challenge of complexity and **overfitting** in **machine learning models** that is not too hard to understand (and which you might already have some guesses or a hunch about). \n",
    "> \n",
    "> ---\n",
    "> \n",
    "> _Don't forget to ask for summaries of all your different ChatBot sessions and organize and paste these into your homework notebook (including link(s) to chat log histories if you're using ChatBot); but, if you're using the STA130 custom NBLM ChatBot, you'll only be able to ask for summaries, of course!_ \n",
    "       \n",
    "</details>"
   ]
  },
  {
   "cell_type": "markdown",
   "id": "5cb0822e",
   "metadata": {},
   "source": [
    "# question 8\n",
    "\n",
    "Steps to Visualize and Report Feature Importances:\n",
    "\n",
    "1.Extract Feature Importances: Use clf2.feature_importances_ to get the importance scores for each feature.\n",
    "\n",
    "2.Match with Feature Names: Use clf2.feature_names_in_ to identify the corresponding feature names.\n",
    "\n",
    "3.Plot the Importances:\n",
    "Use a horizontal bar chart with plt.barh.\n",
    "Label the x-axis as \"Feature Importance\" and include a title.\n",
    "\n",
    "4.Identify the Most Important Feature: Find the feature with the highest score using np.argmax(clf2.feature_importances_)."
   ]
  },
  {
   "cell_type": "code",
   "execution_count": 9,
   "id": "2c0164f3",
   "metadata": {},
   "outputs": [
    {
     "name": "stdout",
     "output_type": "stream",
     "text": [
      "Feature Importances:\n",
      "      Feature  Importance\n",
      "2  List Price    0.485974\n",
      "1       Thick    0.297490\n",
      "0    NumPages    0.216537\n"
     ]
    },
    {
     "name": "stderr",
     "output_type": "stream",
     "text": [
      "/tmp/ipykernel_52/3956996147.py:20: SettingWithCopyWarning: \n",
      "A value is trying to be set on a copy of a slice from a DataFrame.\n",
      "Try using .loc[row_indexer,col_indexer] = value instead\n",
      "\n",
      "See the caveats in the documentation: https://pandas.pydata.org/pandas-docs/stable/user_guide/indexing.html#returning-a-view-versus-a-copy\n",
      "  ab_reduced_noNaN[\"Pub year\"] = ab_reduced_noNaN[\"Pub year\"].astype(int)\n",
      "/tmp/ipykernel_52/3956996147.py:21: SettingWithCopyWarning: \n",
      "A value is trying to be set on a copy of a slice from a DataFrame.\n",
      "Try using .loc[row_indexer,col_indexer] = value instead\n",
      "\n",
      "See the caveats in the documentation: https://pandas.pydata.org/pandas-docs/stable/user_guide/indexing.html#returning-a-view-versus-a-copy\n",
      "  ab_reduced_noNaN[\"NumPages\"] = ab_reduced_noNaN[\"NumPages\"].astype(int)\n",
      "/tmp/ipykernel_52/3956996147.py:22: SettingWithCopyWarning: \n",
      "A value is trying to be set on a copy of a slice from a DataFrame.\n",
      "Try using .loc[row_indexer,col_indexer] = value instead\n",
      "\n",
      "See the caveats in the documentation: https://pandas.pydata.org/pandas-docs/stable/user_guide/indexing.html#returning-a-view-versus-a-copy\n",
      "  ab_reduced_noNaN[\"Hard_or_Paper\"] = ab_reduced_noNaN[\"Hard_or_Paper\"].astype(\"category\")\n"
     ]
    },
    {
     "data": {
      "image/png": "[encoded data removed]",
      "text/plain": [
       "<Figure size 800x600 with 1 Axes>"
      ]
     },
     "metadata": {},
     "output_type": "display_data"
    }
   ],
   "source": [
    "# Import necessary libraries\n",
    "import pandas as pd\n",
    "import numpy as np\n",
    "from sklearn.tree import DecisionTreeClassifier\n",
    "from sklearn.model_selection import train_test_split\n",
    "import matplotlib.pyplot as plt\n",
    "\n",
    "# Step 1: Load the dataset\n",
    "url = \"https://raw.githubusercontent.com/pointOfive/STA130_F23/main/Data/amazonbooks.csv\"\n",
    "ab = pd.read_csv(url, encoding=\"ISO-8859-1\")\n",
    "\n",
    "# Step 2: Data preprocessing\n",
    "# Remove unnecessary columns\n",
    "ab_reduced = ab.drop(columns=[\"Weight_oz\", \"Width\", \"Height\"])\n",
    "\n",
    "# Drop rows with missing values\n",
    "ab_reduced_noNaN = ab_reduced.dropna()\n",
    "\n",
    "# Convert data types\n",
    "ab_reduced_noNaN[\"Pub year\"] = ab_reduced_noNaN[\"Pub year\"].astype(int)\n",
    "ab_reduced_noNaN[\"NumPages\"] = ab_reduced_noNaN[\"NumPages\"].astype(int)\n",
    "ab_reduced_noNaN[\"Hard_or_Paper\"] = ab_reduced_noNaN[\"Hard_or_Paper\"].astype(\"category\")\n",
    "\n",
    "# Step 3: Split the data into training and testing sets\n",
    "# Use train_test_split to create an 80/20 split, ensuring reproducibility with a random seed\n",
    "ab_reduced_noNaN_train, ab_reduced_noNaN_test = train_test_split(\n",
    "    ab_reduced_noNaN, test_size=0.2, random_state=42\n",
    ")\n",
    "\n",
    "# Step 4: Prepare the features and target variable\n",
    "# Features: 'NumPages', 'Thick', and 'List Price'\n",
    "X_train_clf2 = ab_reduced_noNaN_train[['NumPages', 'Thick', 'List Price']]\n",
    "# Target: 'Hard_or_Paper', converted to binary ('H' represents Hardcover)\n",
    "y_train_clf2 = pd.get_dummies(ab_reduced_noNaN_train[\"Hard_or_Paper\"])['H']\n",
    "\n",
    "# Step 5: Create and train the Decision Tree model clf2\n",
    "clf2 = DecisionTreeClassifier(max_depth=4, random_state=42)\n",
    "clf2.fit(X_train_clf2, y_train_clf2)\n",
    "\n",
    "# Step 6: Extract feature importances\n",
    "importances = clf2.feature_importances_\n",
    "feature_names = clf2.feature_names_in_\n",
    "\n",
    "# Create a DataFrame to display feature importances\n",
    "feature_importance_df = pd.DataFrame({\n",
    "    'Feature': feature_names,\n",
    "    'Importance': importances\n",
    "})\n",
    "\n",
    "# Sort by importance in descending order\n",
    "feature_importance_df = feature_importance_df.sort_values(by='Importance', ascending=False)\n",
    "print(\"Feature Importances:\")\n",
    "print(feature_importance_df)\n",
    "\n",
    "# Step 7: Visualize feature importances\n",
    "plt.figure(figsize=(8, 6))\n",
    "plt.bar(feature_importance_df['Feature'], feature_importance_df['Importance'], color='skyblue')\n",
    "plt.xlabel('Features')\n",
    "plt.ylabel('Importance')\n",
    "plt.title('Feature Importances in clf2')\n",
    "plt.show()\n"
   ]
  },
  {
   "cell_type": "markdown",
   "id": "7c0d4100",
   "metadata": {},
   "source": [
    "# summary\n",
    "\n",
    "Using the 'amazonbooks' dataset, a Decision Tree classifier (clf2) was trained to predict whether a book is hardcover. Key features ('NumPages', 'Thick', 'List Price') were analyzed for importance. 'Thick' was identified as the most influential predictor, visualized with a bar chart of feature importances."
   ]
  },
  {
   "cell_type": "markdown",
   "id": "59e4e545",
   "metadata": {},
   "source": [
    "The link of the chatBot:https://chatgpt.com/share/673e192a-a8a8-8003-b0b7-611938c33c0b"
   ]
  },
  {
   "cell_type": "markdown",
   "id": "3eb7d92c",
   "metadata": {},
   "source": [
    "### 9. Describe the differences of interpreting coefficients in linear model regression versus feature importances in decision trees in two to three sentences<br>\n",
    "\n",
    "<details class=\"details-example\"><summary style=\"color:blue\"><u>Further Guidance</u></summary>\n",
    "\n",
    "> _Linear model regression predicts continuous real-valued averages for a given configuration of covariate values (or, feature values, if we're using machine learning terminology instead of statistical terminology), whereas a binary classification model such as a binary classification tree predicts 0/1 (\"yes\" or \"no\") outcomes (and gives the probability of a 1 \"yes\" (or \"success\") outcome from which a 1/0 \"yes\"/\"no\" prediction can be made; but, this is not what is being asked here. This question is asking \"what's the difference in the way we can interpret and understand how the predictor variables influence the predictions in linear model regression based on the coefficients versus in binary decision trees based on the Feature Importances?\"_\n",
    ">    \n",
    "> ---\n",
    "> \n",
    "> _Don't forget to ask for summaries of all your different ChatBot sessions and organize and paste these into your homework notebook (including link(s) to chat log histories if you're using ChatBot); but, if you're using the STA130 custom NBLM ChatBot, you'll only be able to ask for summaries, of course!_ \n",
    "    \n",
    "</details>"
   ]
  },
  {
   "cell_type": "markdown",
   "id": "953bdf29",
   "metadata": {},
   "source": [
    "# question 9\n",
    "\n",
    "In linear regression, coefficients directly indicate the magnitude and direction of the relationship between each predictor and the target variable, making them easy to interpret as changes in the predicted outcome per unit change in the predictor. \n",
    "\n",
    "In contrast, feature importances in decision trees represent the relative contribution of each feature to the model's overall predictive power, based on improvements in the splitting criterion (e.g., Gini impurity or entropy), which makes their interpretation less direct and context-dependent."
   ]
  },
  {
   "cell_type": "markdown",
   "id": "bf6fb0cb",
   "metadata": {},
   "source": [
    "### 10. Have you reviewed the course wiki-textbook and interacted with a ChatBot (or, if that wasn't sufficient, real people in the course piazza discussion board or TA office hours) to help you understand all the material in the tutorial and lecture that you didn't quite follow when you first saw it?<br>\n",
    "  \n",
    "<details class=\"details-example\"><summary style=\"color:blue\"><u>Further Guidance</u></summary>\n",
    "\n",
    ">  _Here is the link of [wiki-textbook](https://github.com/pointOfive/stat130chat130/wiki) in case it gets lost among all the information you need to keep track of_  : )\n",
    "> \n",
    "> _Just answering \"Yes\" or \"No\" or \"Somewhat\" or \"Mostly\" or whatever here is fine as this question isn't a part of the rubric; but, the midterm and final exams may ask questions that are based on the tutorial and lecture materials; and, your own skills will be limited by your familiarity with these materials (which will determine your ability to actually do actual things effectively with these skills... like the course project...)_\n",
    "    \n",
    "</details>"
   ]
  },
  {
   "cell_type": "markdown",
   "id": "43db48c5",
   "metadata": {},
   "source": [
    "Yesss!!"
   ]
  },
  {
   "cell_type": "markdown",
   "id": "d2436778",
   "metadata": {},
   "source": [
    "# Recommended Additional Useful Activities [Optional]\n",
    "\n",
    "The \"Ethical Profesionalism Considerations\" and \"Current Course Project Capability Level\" sections below **are not a part of the required homework assignment**; rather, they are regular weekly guides covering (a) relevant considerations regarding professional and ethical conduct, and (b) the analysis steps for the STA130 course project that are feasible at the current stage of the course \n",
    "\n",
    "<br>\n",
    "<details class=\"details-example\"><summary style=\"color:blue\"><u>Ethical Professionalism Considerations</u></summary>\n",
    "\n",
    "### Ethical Professionalism Considerations\n",
    "\n",
    "- Discuss with a ChatBox about consent and data collection for training models.\n",
    "    - Discuss the ethics of data collection for training decision trees, particularly the need for informed consent when personal data is involved.\n",
    "    - Evaluate the role of regulatory frameworks in ensuring ethical data collection practices.\n",
    "- Discuss with a ChatBox about accountability in automated decision-making.\n",
    "    - Address the challenges of holding systems and their developers accountable when decision trees lead to adverse outcomes.\n",
    "    - Explore legal and ethical frameworks for responsibility when automated decisions go wrong.\n",
    "- Discuss with a ChatBox about transparency and explainability in classification models.\n",
    "    - Discuss the importance of model transparency, particularly when using decision trees in sectors like healthcare or criminal justice.\n",
    "    - Explore methods to enhance the explainability of decision trees, such as visualization techniques and simplified decision paths.\n",
    "- Discuss with a ChatBox about impact of misclassifications in critical applications.\n",
    "    - Examine the consequences of false positives and false negatives in decision tree outcomes, using confusion matrices to highlight these issues.\n",
    "    - Discuss ethical responsibilities when deploying classifiers in high-stakes fields like medicine or law enforcement.\n",
    "    \n",
    "</details>    \n",
    "\n",
    "<details class=\"details-example\"><summary style=\"color:blue\"><u>Current Course Project Capability Level</u></summary>\n",
    "\n",
    "**Remember to abide by the [data use agreement](https://static1.squarespace.com/static/60283c2e174c122f8ebe0f39/t/6239c284d610f76fed5a2e69/1647952517436/Data+Use+Agreement+for+the+Canadian+Social+Connection+Survey.pdf) at all times.**\n",
    "\n",
    "Information about the course project is available on the course github repo [here](https://github.com/pointOfive/stat130chat130/tree/main/CP), including a draft [course project specfication](https://github.com/pointOfive/stat130chat130/blob/main/CP/STA130F23_course_project_specification.ipynb) (subject to change). \n",
    "- The Week 01 HW introduced [STA130F24_CourseProject.ipynb](https://github.com/pointOfive/stat130chat130/blob/main/CP/STA130F24_CourseProject.ipynb), and the [available variables](https://drive.google.com/file/d/1ISVymGn-WR1lcRs4psIym2N3or5onNBi/view). \n",
    "- Please do not download the [data](https://drive.google.com/file/d/1mbUQlMTrNYA7Ly5eImVRBn16Ehy9Lggo/view) accessible at the bottom of the [CSCS](https://casch.org/cscs) webpage (or the course github repo) multiple times.\n",
    "    \n",
    "\n",
    "> ### NEW DEVELOPMENT<br>New Abilities Achieved and New Levels Unlocked!!!    \n",
    "> \n",
    "> And with that, ALL LEVELS unlocked! \n",
    ">\n",
    "> CONGRATS, YOU LEGENDS! 🎉\n",
    ">\n",
    "> You’ve battled through the wild jungles of deadlines, defeated the mighty Homework Beasts, and climbed the towering Mount Procrastination. And guess what? YOU MADE IT TO THE TOP! 🏔️\n",
    "> \n",
    "> Take a bow, grab a treat, and enjoy the sweet, sweet taste of freedom(**just for now , because you still have to finish the project! But you are almost done!**). You’ve earned it. Now go out there and celebrate like the absolute rockstars you are! 🌟💪\n",
    ">\n",
    "\n",
    "    \n",
    "### Current Course Project Capability Level    \n",
    "    \n",
    "I mean, the **course project** is basically, like, essentially now.\n",
    "    \n",
    "- Will you be doing any **classification decision trees** stuff for the course project?\n",
    "    - You could consider making some [partial dependency plots](https://scikit-learn.org/stable/modules/partial_dependence.html) if so...\n",
    "    - those might provide an interesting analysis in addition to **tree structure** visualizations, **confusion matrices**, **feature importances**. and the standard \"in-sample versus out-of-sample\" **train-test validation** analysis that would be expected in a **machine learning context**\n",
    "    \n",
    "- You could see if there are any interesting columns that might make for a potentially interesting **classification decision tree** analysis\n",
    "    - You wouldn't have to though...\n",
    "    - But if you did you'd want to be able to articulate and explain why what you're doing with **classification decision trees** is appropriate and enlightening\n",
    "\n",
    "- Anyway, I guess that just leaves reviewing all the statistical techniques covered in STA130, and considering integrating them holistically into your project!\n",
    "    \n",
    "</details>        "
   ]
  }
 ],
 "metadata": {
  "kernelspec": {
   "display_name": "Python 3 (ipykernel)",
   "language": "python",
   "name": "python3"
  },
  "language_info": {
   "codemirror_mode": {
    "name": "ipython",
    "version": 3
   },
   "file_extension": ".py",
   "mimetype": "text/x-python",
   "name": "python",
   "nbconvert_exporter": "python",
   "pygments_lexer": "ipython3",
   "version": "3.11.6"
  }
 },
 "nbformat": 4,
 "nbformat_minor": 5
}
